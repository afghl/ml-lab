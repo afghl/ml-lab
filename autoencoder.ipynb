{
 "cells": [
  {
   "cell_type": "code",
   "execution_count": null,
   "id": "initial_id",
   "metadata": {
    "collapsed": true
   },
   "outputs": [],
   "source": [
    "from advanced import autoencoder\n",
    "import numpy as np\n",
    "import torch\n",
    "import torch.nn as nn\n",
    "import torch.optim as optim\n",
    "from torchvision import datasets, transforms\n",
    "from torch.utils.data import DataLoader\n",
    "from advanced.autoencoder import train, evaluate_and_print_result, show_latent_space\n",
    "\n",
    "batch_size = 64\n",
    "learning_rate = 1e-3\n",
    "each_epochs = 3 "
   ]
  },
  {
   "cell_type": "code",
   "outputs": [],
   "source": [
    "# get data\n",
    "# 数据预处理和加载\n",
    "transform = transforms.Compose([\n",
    "    transforms.ToTensor(),\n",
    "    transforms.Lambda(lambda x: x.view(-1))  # 将28x28的图像展开成784的向量\n",
    "])\n",
    "\n",
    "\n",
    "train_dataset = datasets.MNIST(root='~/', train=True, transform=transform, download=True)\n",
    "# train_dataset = datasets.MNIST(root='./data/MNIST', train=True, transform=transform, download=False)\n",
    "train_loader = DataLoader(train_dataset, batch_size=batch_size, shuffle=True)\n",
    "# 看一个例子的数据\n",
    "data, _ = next(iter(train_loader))\n",
    "print(data.shape)\n",
    "# print(data[0].shape)"
   ],
   "metadata": {
    "collapsed": false
   },
   "id": "79137156edc5c00c",
   "execution_count": null
  },
  {
   "cell_type": "code",
   "outputs": [],
   "source": [
    "# 初始化模型、损失函数和优化器\n",
    "model = autoencoder.AutoEncoder()\n",
    "criterion = nn.MSELoss()\n",
    "optimizer = optim.Adam(model.parameters(), lr=learning_rate)\n",
    "#\n",
    "\n",
    "# 看看模型的结构\n",
    "print(model)"
   ],
   "metadata": {
    "collapsed": false
   },
   "id": "c2caa42c2701505b",
   "execution_count": null
  },
  {
   "cell_type": "code",
   "outputs": [],
   "source": [
    "autoencoder.train(model, train_loader, criterion, optimizer, each_epochs)\n",
    "\n",
    "print(\"第一轮\")"
   ],
   "metadata": {
    "collapsed": false
   },
   "id": "9dc17b4a3164f09",
   "execution_count": null
  },
  {
   "cell_type": "code",
   "outputs": [],
   "source": [
    "evaluate_and_print_result(model, train_loader)\n",
    "show_latent_space(model, train_loader)"
   ],
   "metadata": {
    "collapsed": false
   },
   "id": "3c728b90342cff25",
   "execution_count": null
  },
  {
   "cell_type": "code",
   "outputs": [],
   "source": [
    "autoencoder.train(model, train_loader, criterion, optimizer, each_epochs*5)"
   ],
   "metadata": {
    "collapsed": false
   },
   "id": "868fbec453ac36c2",
   "execution_count": null
  },
  {
   "cell_type": "code",
   "outputs": [],
   "source": [
    "autoencoder.train(model, train_loader, criterion, optimizer, each_epochs*2)"
   ],
   "metadata": {
    "collapsed": false
   },
   "id": "caf840d332c89e79",
   "execution_count": null
  },
  {
   "cell_type": "code",
   "outputs": [],
   "source": [
    "evaluate_and_print_result(model, train_loader)\n",
    "show_latent_space(model, train_loader)"
   ],
   "metadata": {
    "collapsed": false
   },
   "id": "1b7e890e709d62c9",
   "execution_count": null
  },
  {
   "cell_type": "code",
   "outputs": [],
   "source": [],
   "metadata": {
    "collapsed": false
   },
   "id": "2b6ef146cab51a02"
  }
 ],
 "metadata": {
  "kernelspec": {
   "display_name": "Python 3",
   "language": "python",
   "name": "python3"
  },
  "language_info": {
   "codemirror_mode": {
    "name": "ipython",
    "version": 2
   },
   "file_extension": ".py",
   "mimetype": "text/x-python",
   "name": "python",
   "nbconvert_exporter": "python",
   "pygments_lexer": "ipython2",
   "version": "2.7.6"
  }
 },
 "nbformat": 4,
 "nbformat_minor": 5
}
