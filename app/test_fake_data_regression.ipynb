{
 "cells": [
  {
   "cell_type": "code",
   "execution_count": null,
   "id": "initial_id",
   "metadata": {
    "collapsed": true
   },
   "outputs": [],
   "source": [
    "import pandas as pd\n",
    "import numpy as np\n",
    "import matplotlib.pyplot as plt\n",
    "from supervised_learning.regression import Regression\n",
    "\n",
    "from sklearn.model_selection import train_test_split\n",
    "import seaborn as sns\n",
    "\n",
    "from sklearn import metrics\n",
    "\n",
    "df = pd.read_csv('../data/handful-data.csv')"
   ]
  },
  {
   "cell_type": "code",
   "outputs": [],
   "source": [
    "X=df.drop('y',axis=1)\n",
    "y=df['y']"
   ],
   "metadata": {
    "collapsed": false
   },
   "id": "5d28ed0e1506e0d7",
   "execution_count": null
  },
  {
   "cell_type": "code",
   "outputs": [],
   "source": [
    "X_train, X_test, y_train, y_test = train_test_split(X, y, test_size=0.3, random_state=101)\n",
    "# to numpy\n",
    "X_train = X_train.to_numpy().reshape(-1,1)\n",
    "X_test = X_test.to_numpy().reshape(-1,1)\n",
    "y_train = y_train.to_numpy()\n",
    "y_test = y_test.to_numpy()"
   ],
   "metadata": {
    "collapsed": false
   },
   "id": "d940e3762f06967c",
   "execution_count": null
  },
  {
   "cell_type": "code",
   "outputs": [],
   "source": [
    "X_train.shape, X_test.shape, y_train.shape, y_test.shape"
   ],
   "metadata": {
    "collapsed": false
   },
   "id": "66b0e4250ff45278",
   "execution_count": null
  },
  {
   "cell_type": "code",
   "outputs": [],
   "source": [
    "plt.scatter(X_train, y_train)\n",
    "plt.show()"
   ],
   "metadata": {
    "collapsed": false
   },
   "id": "5e09b41de3cac281",
   "execution_count": null
  },
  {
   "cell_type": "code",
   "outputs": [],
   "source": [
    "model = Regression(300,0.000001)\n",
    "model.initialize_weights_and_bias(1)\n",
    "# X_train = X_train.reshape(-1,1)\n",
    "# X_train.shape\n",
    "# model.w.shape, X_train.shape, y_train.shape\n",
    "model.fit(X_train, y_train)\n",
    "# 看一下training_errors\n",
    "plt.plot(model.training_errors)"
   ],
   "metadata": {
    "collapsed": false
   },
   "id": "63c6e9e64954a713",
   "execution_count": null
  },
  {
   "cell_type": "code",
   "outputs": [],
   "source": [
    "plt.scatter(X_train, y_train)\n",
    "plt.plot(X_train, model.w[0]*X_train + model.b, 'r')\n",
    "plt.show()"
   ],
   "metadata": {
    "collapsed": false
   },
   "id": "c94bda2e8ee37da9",
   "execution_count": null
  },
  {
   "cell_type": "code",
   "outputs": [],
   "source": [
    "# check weights and bias\n",
    "model.w, model.b"
   ],
   "metadata": {
    "collapsed": false
   },
   "id": "2fb4863d3b61347f",
   "execution_count": null
  },
  {
   "cell_type": "code",
   "outputs": [],
   "source": [],
   "metadata": {
    "collapsed": false
   },
   "id": "8e49d3383c9ba15c"
  }
 ],
 "metadata": {
  "kernelspec": {
   "display_name": "Python 3",
   "language": "python",
   "name": "python3"
  },
  "language_info": {
   "codemirror_mode": {
    "name": "ipython",
    "version": 2
   },
   "file_extension": ".py",
   "mimetype": "text/x-python",
   "name": "python",
   "nbconvert_exporter": "python",
   "pygments_lexer": "ipython2",
   "version": "2.7.6"
  }
 },
 "nbformat": 4,
 "nbformat_minor": 5
}
