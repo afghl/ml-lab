{
 "cells": [
  {
   "cell_type": "code",
   "execution_count": null,
   "id": "initial_id",
   "metadata": {},
   "outputs": [],
   "source": [
    "import pandas as pd\n",
    "import numpy as np\n",
    "import matplotlib.pyplot as plt\n",
    "from supervised_learning.regression import Regression\n",
    "\n",
    "from sklearn.model_selection import train_test_split\n",
    "import seaborn as sns\n",
    "\n",
    "from sklearn import metrics"
   ]
  },
  {
   "cell_type": "code",
   "execution_count": null,
   "id": "4f237598db0c5901",
   "metadata": {
    "collapsed": false
   },
   "outputs": [],
   "source": [
    "df = pd.read_csv('../data/real_estate.csv')"
   ]
  },
  {
   "cell_type": "code",
   "execution_count": null,
   "id": "109af711-b163-457a-ab6e-e7ae90d0436e",
   "metadata": {},
   "outputs": [],
   "source": [
    "X=df.drop('Y house price of unit area', axis=1)"
   ]
  },
  {
   "cell_type": "code",
   "execution_count": null,
   "id": "aeb39a09-5bd6-416c-b941-4c8b6a2e9d65",
   "metadata": {},
   "outputs": [],
   "source": [
    "y= df['Y house price of unit area']"
   ]
  },
  {
   "cell_type": "code",
   "execution_count": null,
   "id": "ca2f2aae-40db-4b26-bf7c-c018e151984f",
   "metadata": {},
   "outputs": [],
   "source": [
    "X.shape, y.shape"
   ]
  },
  {
   "cell_type": "code",
   "execution_count": null,
   "id": "722a72c9-6e47-4119-8bd0-6805b47925bf",
   "metadata": {},
   "outputs": [],
   "source": [
    "X_train, X_test, y_train, y_test = train_test_split(X, y, test_size=0.3, random_state=101)\n",
    "# 只取X2 house age这一列\n",
    "X_train = X_train['X2 house age']\n",
    "X_test = X_test['X2 house age']\n",
    "# to numpy\n",
    "X_train = X_train.to_numpy().reshape(-1,1)\n",
    "X_test = X_test.to_numpy().reshape(-1,1)\n",
    "y_train = y_train.to_numpy()\n",
    "y_test = y_test.to_numpy()"
   ]
  },
  {
   "cell_type": "code",
   "execution_count": null,
   "id": "0698067e-be50-4f0e-af07-afa4b1b07174",
   "metadata": {},
   "outputs": [],
   "source": [
    "X_train.shape, X_test.shape, y_train.shape, y_test.shape"
   ]
  },
  {
   "cell_type": "code",
   "outputs": [],
   "source": [
    "# print a chart of the X_train and y_train\n",
    "plt.scatter(X_train, y_train)\n",
    "plt.show()"
   ],
   "metadata": {
    "collapsed": false
   },
   "id": "2ff450217f591a15",
   "execution_count": null
  },
  {
   "cell_type": "code",
   "outputs": [],
   "source": [
    "# 这里我们认为，房龄越大，房价越低，应该存在线性回归关系\n",
    "# 所以我们选择一个线性回归模型\n",
    "\n",
    "model = Regression(2000,0.00001)\n",
    "model.initialize_weights_and_bias(1)\n",
    "# X_train = X_train.reshape(-1,1)\n",
    "# X_train.shape\n",
    "# model.w.shape, X_train.shape, y_train.shape\n",
    "model.fit(X_train, y_train)\n",
    "# 看一下training_errors\n",
    "plt.plot(model.training_errors)"
   ],
   "metadata": {
    "collapsed": false
   },
   "id": "732c65fca3aefea5",
   "execution_count": null
  },
  {
   "cell_type": "code",
   "outputs": [
    {
     "ename": "NameError",
     "evalue": "name 'plt' is not defined",
     "output_type": "error",
     "traceback": [
      "\u001B[0;31m---------------------------------------------------------------------------\u001B[0m",
      "\u001B[0;31mNameError\u001B[0m                                 Traceback (most recent call last)",
      "Cell \u001B[0;32mIn[1], line 2\u001B[0m\n\u001B[1;32m      1\u001B[0m \u001B[38;5;66;03m# 最后在plt上，将线性回归的结果画出来, 包括model.w[0]和model.b\u001B[39;00m\n\u001B[0;32m----> 2\u001B[0m \u001B[43mplt\u001B[49m\u001B[38;5;241m.\u001B[39mscatter(X_train, y_train)\n\u001B[1;32m      3\u001B[0m plt\u001B[38;5;241m.\u001B[39mplot(X_train, model\u001B[38;5;241m.\u001B[39mw[\u001B[38;5;241m0\u001B[39m]\u001B[38;5;241m*\u001B[39mX_train \u001B[38;5;241m+\u001B[39m model\u001B[38;5;241m.\u001B[39mb, \u001B[38;5;124m'\u001B[39m\u001B[38;5;124mr\u001B[39m\u001B[38;5;124m'\u001B[39m)\n\u001B[1;32m      4\u001B[0m plt\u001B[38;5;241m.\u001B[39mshow()\n",
      "\u001B[0;31mNameError\u001B[0m: name 'plt' is not defined"
     ]
    }
   ],
   "source": [
    "# 最后在plt上，将线性回归的结果画出来, 包括model.w[0]和model.b\n",
    "plt.scatter(X_train, y_train)\n",
    "plt.plot(X_train, model.w[0]*X_train + model.b, 'r')\n",
    "plt.show()\n",
    "model.b\n"
   ],
   "metadata": {
    "collapsed": false,
    "ExecuteTime": {
     "end_time": "2024-04-07T09:51:49.955211Z",
     "start_time": "2024-04-07T09:51:49.367359Z"
    }
   },
   "id": "98381571e56e1690",
   "execution_count": 1
  },
  {
   "cell_type": "code",
   "outputs": [],
   "source": [
    "# 打印一下w和b\n",
    "model.w, model.b"
   ],
   "metadata": {
    "collapsed": false
   },
   "id": "57910f417d58b944",
   "execution_count": null
  },
  {
   "cell_type": "code",
   "outputs": [],
   "source": [],
   "metadata": {
    "collapsed": false
   },
   "id": "769687c69945c8ef"
  }
 ],
 "metadata": {
  "kernelspec": {
   "display_name": "Python 3 (ipykernel)",
   "language": "python",
   "name": "python3"
  },
  "language_info": {
   "codemirror_mode": {
    "name": "ipython",
    "version": 3
   },
   "file_extension": ".py",
   "mimetype": "text/x-python",
   "name": "python",
   "nbconvert_exporter": "python",
   "pygments_lexer": "ipython3",
   "version": "3.10.4"
  }
 },
 "nbformat": 4,
 "nbformat_minor": 5
}
