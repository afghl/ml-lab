{
 "cells": [
  {
   "cell_type": "code",
   "outputs": [
    {
     "name": "stdout",
     "output_type": "stream",
     "text": [
      "['regression.py', 'test_fake_data_regression.ipynb', 'nn.py', 'regression.ipynb', 'polymonial_regression.ipynb', '.ipynb_checkpoints', 'nn.ipynb']\n",
      "训练集图像形状：(60000, 28, 28)\n",
      "训练集标签形状：(60000,)\n",
      "测试集图像形状：(10000, 28, 28)\n",
      "测试集标签形状：(10000,)\n"
     ]
    }
   ],
   "source": [
    "from nn import load_mnist\n",
    "(x_train, y_train), (x_test, y_test) = load_mnist()\n",
    "print(f\"训练集图像形状：{x_train.shape}\")\n",
    "print(f\"训练集标签形状：{y_train.shape}\")\n",
    "print(f\"测试集图像形状：{x_test.shape}\")\n",
    "print(f\"测试集标签形状：{y_test.shape}\")"
   ],
   "metadata": {
    "collapsed": false,
    "ExecuteTime": {
     "end_time": "2024-04-19T03:50:41.582443Z",
     "start_time": "2024-04-19T03:50:41.505167Z"
    }
   },
   "id": "85f81e0d4d101539",
   "execution_count": 17
  },
  {
   "cell_type": "code",
   "outputs": [
    {
     "data": {
      "text/plain": "<Figure size 1000x1000 with 5 Axes>",
      "image/png": "[encoded data removed]"
     },
     "metadata": {},
     "output_type": "display_data"
    }
   ],
   "source": [
    "import matplotlib.pyplot as plt\n",
    "plt.figure(figsize=(10, 10))\n",
    "for i in range(5):\n",
    "    plt.subplot(5, 5, i + 1)\n",
    "    plt.imshow(x_train[i], cmap='gray')"
   ],
   "metadata": {
    "collapsed": false,
    "ExecuteTime": {
     "end_time": "2024-04-19T03:52:02.203532Z",
     "start_time": "2024-04-19T03:52:01.963861Z"
    }
   },
   "id": "f4a0ed9c2c800b51",
   "execution_count": 22
  },
  {
   "cell_type": "code",
   "outputs": [],
   "source": [
    "from "
   ],
   "metadata": {
    "collapsed": false
   },
   "id": "a961180c1bdc3669"
  }
 ],
 "metadata": {
  "kernelspec": {
   "display_name": "Python 3",
   "language": "python",
   "name": "python3"
  },
  "language_info": {
   "codemirror_mode": {
    "name": "ipython",
    "version": 2
   },
   "file_extension": ".py",
   "mimetype": "text/x-python",
   "name": "python",
   "nbconvert_exporter": "python",
   "pygments_lexer": "ipython2",
   "version": "2.7.6"
  }
 },
 "nbformat": 4,
 "nbformat_minor": 5
}
